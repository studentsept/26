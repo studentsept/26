{
  "nbformat": 4,
  "nbformat_minor": 0,
  "metadata": {
    "colab": {
      "name": "C 100.ipynb",
      "provenance": [],
      "authorship_tag": "ABX9TyPO1DsFrJ5NGtsKYLOuScyU",
      "include_colab_link": true
    },
    "kernelspec": {
      "name": "python3",
      "display_name": "Python 3"
    },
    "language_info": {
      "name": "python"
    }
  },
  "cells": [
    {
      "cell_type": "markdown",
      "metadata": {
        "id": "view-in-github",
        "colab_type": "text"
      },
      "source": [
        "<a href=\"https://colab.research.google.com/github/studentsept/26/blob/main/C_100.ipynb\" target=\"_parent\"><img src=\"https://colab.research.google.com/assets/colab-badge.svg\" alt=\"Open In Colab\"/></a>"
      ]
    },
    {
      "cell_type": "markdown",
      "source": [
        "Dictionary Syntax"
      ],
      "metadata": {
        "id": "RSzPf3L6VhGk"
      }
    },
    {
      "cell_type": "code",
      "execution_count": null,
      "metadata": {
        "colab": {
          "base_uri": "https://localhost:8080/"
        },
        "id": "a5vR4a3Jugis",
        "outputId": "1b62f7a5-ecc1-4c29-ea29-30c13b90bf16"
      },
      "outputs": [
        {
          "output_type": "execute_result",
          "data": {
            "text/plain": [
              "dict"
            ]
          },
          "metadata": {},
          "execution_count": 1
        }
      ],
      "source": [
        "person = {\n",
        "    \n",
        "}\n",
        "type(person)\n"
      ]
    },
    {
      "cell_type": "markdown",
      "source": [
        "Sample Dictionary\n"
      ],
      "metadata": {
        "id": "DYvNulblVdav"
      }
    },
    {
      "cell_type": "code",
      "source": [
        "person = {\n",
        "    \"name\":\"Sam\",\n",
        "    \"mobile\":\"6954127802\",\n",
        "    \"email\": \"sam@gmail.com\",\n",
        "    \"address\": \"Sweet home, lane2,city\"\n",
        "}\n",
        "print(person)\n"
      ],
      "metadata": {
        "colab": {
          "base_uri": "https://localhost:8080/"
        },
        "id": "zkTjbBpFu_yU",
        "outputId": "f53d7138-bb3d-4301-f6fd-ac0ca6d437f9"
      },
      "execution_count": null,
      "outputs": [
        {
          "output_type": "stream",
          "name": "stdout",
          "text": [
            "{'name': 'Sam', 'mobile': '6954127802', 'email': 'sam@gmail.com', 'address': 'Sweet home, lane2,city'}\n"
          ]
        }
      ]
    },
    {
      "cell_type": "code",
      "source": [
        "print(person[\"name\"])\n"
      ],
      "metadata": {
        "colab": {
          "base_uri": "https://localhost:8080/"
        },
        "id": "kkr5acoNvm0-",
        "outputId": "bfc0dca0-bcf0-4664-f003-333e52cf6d77"
      },
      "execution_count": null,
      "outputs": [
        {
          "output_type": "stream",
          "name": "stdout",
          "text": [
            "Sam\n"
          ]
        }
      ]
    },
    {
      "cell_type": "markdown",
      "source": [
        "Sample class"
      ],
      "metadata": {
        "id": "5zN6sNS-VaYI"
      }
    },
    {
      "cell_type": "code",
      "source": [
        "class sample:\n",
        "  def __init__(self,attribute1,attribute2):\n",
        "    self.a1 = attribute1\n",
        "    self.a2 = attribute2\n",
        "\n",
        "def show_attribute(self):\n",
        "  print(self.a1)\n",
        "  print(self.a2)\n",
        "  \n",
        "a = sample(10,20)\n",
        "show_attribute(a)"
      ],
      "metadata": {
        "colab": {
          "base_uri": "https://localhost:8080/"
        },
        "id": "0eRVMEXvyU_m",
        "outputId": "4d1770a2-e4a7-492a-8b29-4c9f740a909b"
      },
      "execution_count": null,
      "outputs": [
        {
          "output_type": "stream",
          "name": "stdout",
          "text": [
            "10\n",
            "20\n"
          ]
        }
      ]
    },
    {
      "cell_type": "markdown",
      "source": [
        "Class and object with function"
      ],
      "metadata": {
        "id": "JRth2zw0VVvp"
      }
    },
    {
      "cell_type": "code",
      "source": [
        "class contactdetails:\n",
        "  def __init__(self,name,mobile,email,address):\n",
        "    self.Cname = name\n",
        "    self.Cmobile = mobile\n",
        "    self.Cemail = email\n",
        "    self.Caddress = address\n",
        "\n",
        "    self.person = {\n",
        "        \"name\":self.Cname,\n",
        "        \"mobile\":self.Cmobile,\n",
        "        \"email\": self.Cemail,\n",
        "        \"address\": self.Caddress\n",
        "    }\n",
        "\n",
        "def view_details(self,Clist):\n",
        "      print(Clist)\n",
        "\n",
        "def add_details(self,Clist):\n",
        "  Clist.append(self.person)\n",
        "\n",
        "\n",
        "phonebook_list =[]\n",
        "#create object\n",
        "sam = contactdetails('Preeti',8956478556,'preeti_dummy1@gmail.com', 'Delhi , India')\n",
        "#print object view_details(sam)\n",
        "add_details(sam,phonebook_list)\n",
        "view_details(sam,phonebook_list)\n"
      ],
      "metadata": {
        "colab": {
          "base_uri": "https://localhost:8080/"
        },
        "id": "OcrbUBlkzXj1",
        "outputId": "c4f3067b-4638-41ca-9039-7bbd7a90e69b"
      },
      "execution_count": null,
      "outputs": [
        {
          "output_type": "stream",
          "name": "stdout",
          "text": [
            "[{'name': 'Preeti', 'mobile': 8956478556, 'email': 'preeti_dummy1@gmail.com', 'address': 'Delhi , India'}]\n"
          ]
        }
      ]
    },
    {
      "cell_type": "markdown",
      "source": [
        "Class and functions ***with self ***for view details"
      ],
      "metadata": {
        "id": "gr3TbZq9U2Fp"
      }
    },
    {
      "cell_type": "code",
      "source": [
        "class contactdetails:\n",
        "  def __init__(self,name,mobile,email,address):\n",
        "    self.Cname = name\n",
        "    self.Cmobile = mobile\n",
        "    self.Cemail = email\n",
        "    self.Caddress = address\n",
        "\n",
        "    self.person = {\n",
        "        \"name\":self.Cname,\n",
        "        \"mobile\":self.Cmobile,\n",
        "        \"email\": self.Cemail,\n",
        "        \"address\": self.Caddress\n",
        "    }\n",
        "\n",
        "def view_details(self,Clist):\n",
        "      print(Clist)\n",
        "\n",
        "def add_details(self,Clist):\n",
        "  Clist.append(self.person)\n",
        "\n",
        "\n",
        "phonebook_list =[]\n",
        "#create object\n",
        "sam = contactdetails('sam',8956478556,'sam@gmail.com', 'Delhi , India')\n",
        "#print object view_details(sam)\n",
        "add_details(sam,phonebook_list)\n",
        "view_details(sam,phonebook_list)\n",
        "\n",
        "ram = contactdetails('ram',8956478556,'ram@gmail.com', 'Delhi , India')\n",
        "add_details(ram,phonebook_list)\n",
        "view_details(ram,phonebook_list)\n",
        "\n",
        "aam = contactdetails('aam',8956478556,'aam@gmail.com', 'Delhi , India')\n",
        "add_details(aam,phonebook_list)\n",
        "view_details(sam,phonebook_list)"
      ],
      "metadata": {
        "colab": {
          "base_uri": "https://localhost:8080/"
        },
        "id": "wFdjwhD4-vwf",
        "outputId": "61bff53a-dc8f-41cc-f6ab-52c06058bae3"
      },
      "execution_count": null,
      "outputs": [
        {
          "output_type": "stream",
          "name": "stdout",
          "text": [
            "[{'name': 'sam', 'mobile': 8956478556, 'email': 'sam@gmail.com', 'address': 'Delhi , India'}]\n",
            "[{'name': 'sam', 'mobile': 8956478556, 'email': 'sam@gmail.com', 'address': 'Delhi , India'}, {'name': 'ram', 'mobile': 8956478556, 'email': 'ram@gmail.com', 'address': 'Delhi , India'}]\n",
            "[{'name': 'sam', 'mobile': 8956478556, 'email': 'sam@gmail.com', 'address': 'Delhi , India'}, {'name': 'ram', 'mobile': 8956478556, 'email': 'ram@gmail.com', 'address': 'Delhi , India'}, {'name': 'aam', 'mobile': 8956478556, 'email': 'aam@gmail.com', 'address': 'Delhi , India'}]\n"
          ]
        }
      ]
    },
    {
      "cell_type": "markdown",
      "source": [
        "*Class and functions **without self** for view details*"
      ],
      "metadata": {
        "id": "yj3jqe8dU-DA"
      }
    },
    {
      "cell_type": "code",
      "source": [
        "class contactdetails:\n",
        "  def __init__(self,name,mobile,email,address):\n",
        "    self.Cname = name\n",
        "    self.Cmobile = mobile\n",
        "    self.Cemail = email\n",
        "    self.Caddress = address\n",
        "\n",
        "    self.person = {\n",
        "        \"name\":self.Cname,\n",
        "        \"mobile\":self.Cmobile,\n",
        "        \"email\": self.Cemail,\n",
        "        \"address\": self.Caddress\n",
        "    }\n",
        "\n",
        "def view_details(Clist):\n",
        "      print(Clist)\n",
        "\n",
        "def add_details(self,Clist):\n",
        "  Clist.append(self.person)\n",
        "\n",
        "\n",
        "phonebook_list =[]\n",
        "#create object\n",
        "sam = contactdetails('sam',8956478556,'sam@gmail.com', 'Delhi , India')\n",
        "#print object view_details(sam)\n",
        "add_details(sam,phonebook_list)\n",
        "view_details(phonebook_list)\n",
        "\n",
        "ram = contactdetails('ram',8956478556,'ram@gmail.com', 'Delhi , India')\n",
        "add_details(ram,phonebook_list)\n",
        "view_details(phonebook_list)\n",
        "\n",
        "aam = contactdetails('aam',8956478556,'aam@gmail.com', 'Delhi , India')\n",
        "add_details(aam,phonebook_list)\n",
        "view_details(phonebook_list)"
      ],
      "metadata": {
        "colab": {
          "base_uri": "https://localhost:8080/"
        },
        "id": "F0PA_8ouVFJk",
        "outputId": "771f716b-d1e7-4056-950b-bceb60b2f7db"
      },
      "execution_count": 36,
      "outputs": [
        {
          "output_type": "stream",
          "name": "stdout",
          "text": [
            "[{'name': 'sam', 'mobile': 8956478556, 'email': 'sam@gmail.com', 'address': 'Delhi , India'}]\n",
            "[{'name': 'sam', 'mobile': 8956478556, 'email': 'sam@gmail.com', 'address': 'Delhi , India'}, {'name': 'ram', 'mobile': 8956478556, 'email': 'ram@gmail.com', 'address': 'Delhi , India'}]\n",
            "[{'name': 'sam', 'mobile': 8956478556, 'email': 'sam@gmail.com', 'address': 'Delhi , India'}, {'name': 'ram', 'mobile': 8956478556, 'email': 'ram@gmail.com', 'address': 'Delhi , India'}, {'name': 'aam', 'mobile': 8956478556, 'email': 'aam@gmail.com', 'address': 'Delhi , India'}]\n"
          ]
        }
      ]
    }
  ]
}